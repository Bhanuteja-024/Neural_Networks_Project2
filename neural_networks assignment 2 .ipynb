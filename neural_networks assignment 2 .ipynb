{
 "cells": [
  {
   "cell_type": "code",
   "execution_count": 1,
   "metadata": {
    "colab": {
     "base_uri": "https://localhost:8080/"
    },
    "id": "tDcE0ZiIgAKH",
    "outputId": "c1bd164e-d004-4903-bf04-026e7e843984"
   },
   "outputs": [
    {
     "name": "stdout",
     "output_type": "stream",
     "text": [
      "Bhanu teja\n",
      "Naredla\n",
      "Bhanu teja Naredla\n"
     ]
    }
   ],
   "source": [
    "def full_name(a,b):\n",
    "  return a+\" \"+b\n",
    "firstname=input()\n",
    "lastname=input()\n",
    "print(full_name(firstname, lastname))"
   ]
  },
  {
   "cell_type": "code",
   "execution_count": 2,
   "metadata": {
    "colab": {
     "base_uri": "https://localhost:8080/"
    },
    "id": "LlCQNr68iguX",
    "outputId": "22bbb314-65a8-449a-fd45-247cdc693d25"
   },
   "outputs": [
    {
     "name": "stdout",
     "output_type": "stream",
     "text": [
      "Good Evening\n",
      "Go vnn\n"
     ]
    }
   ],
   "source": [
    "def string_alternative(s):\n",
    "  return s[::2]\n",
    "print(string_alternative(input()))"
   ]
  },
  {
   "cell_type": "code",
   "execution_count": 26,
   "metadata": {
    "colab": {
     "base_uri": "https://localhost:8080/"
    },
    "id": "Nzn3ijcljPUn",
    "outputId": "a08e25e7-7aa4-4c4b-bdfd-972314e60df7"
   },
   "outputs": [
    {
     "name": "stdout",
     "output_type": "stream",
     "text": [
      "/content\n",
      "False\n"
     ]
    }
   ],
   "source": [
    "print(os.getcwd()) \n",
    "print(os.path.exists(downloads_path))  "
   ]
  },
  {
   "cell_type": "code",
   "execution_count": null,
   "metadata": {
    "id": "EJtDfuxQyKYp"
   },
   "outputs": [],
   "source": [
    "text = open(\"input.txt\", \"r\")\n",
    "d = dict()\n",
    "for line in text:\n",
    "\n",
    "    line = line.strip()\n",
    "    line = line.lower()\n",
    "    words = line.split(\" \")\n",
    "    for word in words:\n",
    "        if word in d:\n",
    "            d[word] = d[word] + 1\n",
    "        else:\n",
    "            d[word] = 1\n",
    "file1 = open('output.txt', 'w')\n",
    "s=\"\"\n",
    "for key in list(d.keys()):\n",
    "    s+=key+ \":\"+ str(d[key])+\"\\n\"\n",
    "file1.write(s)\n",
    "file1.close()"
   ]
  },
  {
   "cell_type": "code",
   "execution_count": 11,
   "metadata": {
    "colab": {
     "base_uri": "https://localhost:8080/"
    },
    "id": "1R5DV9FGyWWi",
    "outputId": "c7c69c04-aa70-4785-8ff0-fa2e1e2f7a1b"
   },
   "outputs": [
    {
     "name": "stdout",
     "output_type": "stream",
     "text": [
      "Enter number of customers:2\n",
      "150\n",
      "155\n",
      "[381.0, 393.7]\n"
     ]
    }
   ],
   "source": [
    "n=int(input(\"Enter number of customers:\"))\n",
    "l=[float(input())* 2.54 for i in range(n)]\n",
    "print(l)"
   ]
  },
  {
   "cell_type": "code",
   "execution_count": null,
   "metadata": {},
   "outputs": [],
   "source": []
  }
 ],
 "metadata": {
  "colab": {
   "provenance": []
  },
  "kernelspec": {
   "display_name": "Python 3 (ipykernel)",
   "language": "python",
   "name": "python3"
  },
  "language_info": {
   "codemirror_mode": {
    "name": "ipython",
    "version": 3
   },
   "file_extension": ".py",
   "mimetype": "text/x-python",
   "name": "python",
   "nbconvert_exporter": "python",
   "pygments_lexer": "ipython3",
   "version": "3.11.5"
  }
 },
 "nbformat": 4,
 "nbformat_minor": 1
}
